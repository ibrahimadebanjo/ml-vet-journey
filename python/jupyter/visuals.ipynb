{
 "cells": [
  {
   "cell_type": "code",
   "execution_count": 11,
   "id": "12b2fff7-40f6-4e49-a547-fcd6e0ca25fb",
   "metadata": {},
   "outputs": [],
   "source": [
    "# Visualizing a decision Tree\n",
    "import pandas as pd\n",
    "from sklearn.tree import DecisionTreeClassifier\n",
    "from sklearn import tree\n",
    "\n",
    "df = pd.read_csv(\"C:\\\\Users\\\\IBRAHIM\\Documents\\\\ml-vet-journey\\\\python\\\\jupyter\\\\music.csv\")\n",
    "X = df.drop(columns=[\"genre\"])\n",
    "Y = df[\"genre\"]\n",
    "\n",
    "model = DecisionTreeClassifier()\n",
    "model.fit(X,Y)\n",
    "\n",
    "\n",
    "tree.export_graphviz(model, out_file = \"C:\\\\Users\\\\IBRAHIM\\Documents\\\\ml-vet-journey\\\\python\\\\jupyter\\\\music-recommender.dot\",\n",
    "                     feature_names = [\"age\", \"gender\"],\n",
    "                      class_names = sorted(Y.unique()),\n",
    "                      label = \"all\",\n",
    "                      rounded = True,\n",
    "                    filled = True)\n",
    "\n"
   ]
  }
 ],
 "metadata": {
  "kernelspec": {
   "display_name": "Python 3 (ipykernel)",
   "language": "python",
   "name": "python3"
  },
  "language_info": {
   "codemirror_mode": {
    "name": "ipython",
    "version": 3
   },
   "file_extension": ".py",
   "mimetype": "text/x-python",
   "name": "python",
   "nbconvert_exporter": "python",
   "pygments_lexer": "ipython3",
   "version": "3.13.5"
  }
 },
 "nbformat": 4,
 "nbformat_minor": 5
}
