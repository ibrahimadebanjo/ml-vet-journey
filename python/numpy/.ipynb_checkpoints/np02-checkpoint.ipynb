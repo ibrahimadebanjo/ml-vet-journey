{
 "cells": [
  {
   "cell_type": "code",
   "execution_count": 18,
   "id": "b4697bad-f7ec-42bc-b1c9-e4a5a527e8d5",
   "metadata": {},
   "outputs": [
    {
     "data": {
      "text/plain": [
       "array([[0.        , 0.30103   , 0.47712125],\n",
       "       [0.60205999, 0.69897   , 0.77815125]])"
      ]
     },
     "execution_count": 18,
     "metadata": {},
     "output_type": "execute_result"
    }
   ],
   "source": [
    "import numpy as np\n",
    "a = np.full((2,3,4), 9)\n",
    "#default values zeros and ones\n",
    "a = np.zeros((10,4,5))\n",
    "a = np.ones((10,4,5))\n",
    "a = np.empty((4,5,6))\n",
    "x_values = np.arange(0,1000, 5)\n",
    "x_values = np.linspace(0,100,2)\n",
    "x_values\n",
    "# performing mathematical operations with nunpy\n",
    "l1 = [1,2,3,4]\n",
    "l2 = [6,7,6,8]\n",
    "a1 = np.array(l1)\n",
    "a2 = np.array(l2)\n",
    "l1 * 5 #its different with nunpy \n",
    "a1 * 5\n",
    "l1 + l2\n",
    "a1 + a2 #same goes with division and other operators some can't be done with lists\n",
    "\n",
    "a1 = np.array([1,2,3])\n",
    "a2 = np.array([[1],\n",
    "               [2]])\n",
    "a1 + a2\n",
    "# Mathematical functions\n",
    "a = np.array([[1,2,3],\n",
    "              [4,5,6]])\n",
    "np.sqrt(a)\n",
    "np.cos(a)\n",
    "np.arctan(a)\n",
    "np.log10(a)"
   ]
  }
 ],
 "metadata": {
  "kernelspec": {
   "display_name": "Python 3 (ipykernel)",
   "language": "python",
   "name": "python3"
  },
  "language_info": {
   "codemirror_mode": {
    "name": "ipython",
    "version": 3
   },
   "file_extension": ".py",
   "mimetype": "text/x-python",
   "name": "python",
   "nbconvert_exporter": "python",
   "pygments_lexer": "ipython3",
   "version": "3.13.5"
  }
 },
 "nbformat": 4,
 "nbformat_minor": 5
}
