{
 "cells": [
  {
   "cell_type": "code",
   "execution_count": 14,
   "id": "efd4fcf6-260b-4ed7-b4f0-d2ac3a380962",
   "metadata": {},
   "outputs": [
    {
     "data": {
      "text/plain": [
       "numpy.str_"
      ]
     },
     "execution_count": 14,
     "metadata": {},
     "output_type": "execute_result"
    }
   ],
   "source": [
    "import numpy as np\n",
    "a = np.array([1,2,3,4,5])\n",
    "type(a)\n",
    "a[2] = 20\n",
    "a\n",
    "a_mul = np.array([\n",
    "    [1,2,3],\n",
    "    [2,4,5],\n",
    "    [6,7,8]\n",
    "])\n",
    "'''\n",
    "for typecasting \n",
    "a_mul = np.array([\n",
    "    [1,2,3],\n",
    "    [2,4,5],\n",
    "    [6,7,8]\n",
    "], dtype=np.float32)\n",
    "'''\n",
    "a_mul\n",
    "a_mul.shape\n",
    "a_mul.ndim\n",
    "a_mul.size\n",
    "a_mul.dtype\n",
    "a_mult = np.array([\n",
    "    [1,2,3],\n",
    "    [2,\"Hello\",5],\n",
    "    [6,7,8]\n",
    "])\n",
    "a_mult.dtype\n",
    " #This returns string even though it was an integer just because of the string \"Hello\" that was present\n",
    "type(a_mult[0][0])\n"
   ]
  }
 ],
 "metadata": {
  "kernelspec": {
   "display_name": "Python 3 (ipykernel)",
   "language": "python",
   "name": "python3"
  },
  "language_info": {
   "codemirror_mode": {
    "name": "ipython",
    "version": 3
   },
   "file_extension": ".py",
   "mimetype": "text/x-python",
   "name": "python",
   "nbconvert_exporter": "python",
   "pygments_lexer": "ipython3",
   "version": "3.13.5"
  }
 },
 "nbformat": 4,
 "nbformat_minor": 5
}
