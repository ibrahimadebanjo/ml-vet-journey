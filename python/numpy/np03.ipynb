{
 "cells": [
  {
   "cell_type": "code",
   "execution_count": 23,
   "id": "93124209-32a2-4053-93ea-1d03b0c1960f",
   "metadata": {},
   "outputs": [
    {
     "data": {
      "text/plain": [
       "np.float64(9.5)"
      ]
     },
     "execution_count": 23,
     "metadata": {},
     "output_type": "execute_result"
    }
   ],
   "source": [
    "import numpy as np\n",
    "# Array functions\n",
    "a = np.array([1,2,3,4])\n",
    "np.append(a, [7,8,9])\n",
    "np.insert(a, 3, [4,5,6])\n",
    "# delete\n",
    "np.delete(a,2)\n",
    "a.flatten()\n",
    "a.ravel()\n",
    "a.transpose()\n",
    "# Splitting Array and merging\n",
    "a1 = np.array([[1,2,3,4,5],\n",
    "               [6,7,8,8,9]])\n",
    "a2 = np.array([[10,34,78,43,12],\n",
    "               [60,23,68,48,44]])\n",
    "a = np.concatenate((a1, a2), axis =0)\n",
    "a = np.stack((a1, a2), axis =1)\n",
    "a.min()\n",
    "a.max()\n",
    "a.mean()\n",
    "a.std()\n",
    "a.sum()\n",
    "np.median(a)"
   ]
  },
  {
   "cell_type": "code",
   "execution_count": null,
   "id": "9dd39e20-16e3-44d4-814e-cd693968b0f8",
   "metadata": {},
   "outputs": [],
   "source": []
  }
 ],
 "metadata": {
  "kernelspec": {
   "display_name": "Python 3 (ipykernel)",
   "language": "python",
   "name": "python3"
  },
  "language_info": {
   "codemirror_mode": {
    "name": "ipython",
    "version": 3
   },
   "file_extension": ".py",
   "mimetype": "text/x-python",
   "name": "python",
   "nbconvert_exporter": "python",
   "pygments_lexer": "ipython3",
   "version": "3.13.5"
  }
 },
 "nbformat": 4,
 "nbformat_minor": 5
}
