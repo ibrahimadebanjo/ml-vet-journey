{
 "cells": [
  {
   "cell_type": "code",
   "execution_count": 25,
   "id": "5a3e69dd-9d27-4097-8836-654241a1129e",
   "metadata": {},
   "outputs": [],
   "source": [
    "import pandas as pd\n",
    "coffee = pd.read_csv(\"C:\\\\Users\\\\IBRAHIM\\\\Documents\\\\ml-vet-journey\\\\python\\\\pand\\\\coffee.csv\")\n",
    "# accessing data with pandas\n",
    "coffee.iat[0,0]\n",
    "coffee.iloc[0,0]\n",
    "# grabbing data i.e coffee.column name\n",
    "coffee.Day\n",
    "# Sorting Data\n",
    "coffee.sort_values(\"Units Sold\", ascending=False)\n",
    "\n"
   ]
  }
 ],
 "metadata": {
  "kernelspec": {
   "display_name": "Python 3 (ipykernel)",
   "language": "python",
   "name": "python3"
  },
  "language_info": {
   "codemirror_mode": {
    "name": "ipython",
    "version": 3
   },
   "file_extension": ".py",
   "mimetype": "text/x-python",
   "name": "python",
   "nbconvert_exporter": "python",
   "pygments_lexer": "ipython3",
   "version": "3.13.5"
  }
 },
 "nbformat": 4,
 "nbformat_minor": 5
}
