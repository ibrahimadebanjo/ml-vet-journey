{
 "cells": [
  {
   "cell_type": "code",
   "execution_count": 15,
   "id": "3048214f-2cee-47f7-a154-94c68bf5ffe0",
   "metadata": {},
   "outputs": [
    {
     "data": {
      "text/plain": [
       "Day\n",
       "Friday       80\n",
       "Monday       40\n",
       "Saturday     80\n",
       "Sunday       80\n",
       "Thursday     70\n",
       "Tuesday      50\n",
       "Wednesday    60\n",
       "dtype: int64"
      ]
     },
     "execution_count": 15,
     "metadata": {},
     "output_type": "execute_result"
    }
   ],
   "source": [
    "import pandas as pd\n",
    "coffee = pd.read_csv(\"C:\\\\Users\\\\IBRAHIM\\\\Documents\\\\ml-vet-journey\\\\python\\\\pand\\\\coffee.csv\")\n",
    "# Handling Null Values\n",
    "coffee.isna().sum()\n",
    "# fix nan values\n",
    "coffee.fillna(coffee[\"Units Sold\"].mean())\n",
    "coffee[\"Units Sold\"].interpolate()\n",
    "# aggregating data\n",
    "coffee.groupby(['Coffee Type']) [\"Units Sold\"].mean()\n",
    "pivot = coffee.pivot(columns = 'Coffee Type', index = \"Day\")\n",
    "pivot.sum()\n",
    "pivot.sum(axis=1)"
   ]
  }
 ],
 "metadata": {
  "kernelspec": {
   "display_name": "Python 3 (ipykernel)",
   "language": "python",
   "name": "python3"
  },
  "language_info": {
   "codemirror_mode": {
    "name": "ipython",
    "version": 3
   },
   "file_extension": ".py",
   "mimetype": "text/x-python",
   "name": "python",
   "nbconvert_exporter": "python",
   "pygments_lexer": "ipython3",
   "version": "3.13.5"
  }
 },
 "nbformat": 4,
 "nbformat_minor": 5
}
